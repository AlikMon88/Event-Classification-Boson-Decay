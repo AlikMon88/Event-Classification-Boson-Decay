{
 "cells": [
  {
   "cell_type": "markdown",
   "metadata": {},
   "source": [
    "### SECTION - A"
   ]
  },
  {
   "cell_type": "code",
   "execution_count": 3,
   "metadata": {},
   "outputs": [],
   "source": [
    "import random\n",
    "import os\n",
    "import time\n",
    "\n",
    "import tensorflow as tf\n",
    "from tensorflow import keras\n",
    "from tensorflow.keras import layers\n",
    "from tensorflow.keras.datasets import mnist\n",
    "import numpy as np\n",
    "import matplotlib.pyplot as plt"
   ]
  },
  {
   "cell_type": "code",
   "execution_count": 7,
   "metadata": {},
   "outputs": [],
   "source": [
    "# Load and preprocess the MNIST dataset\n",
    "(x_train, y_train), (x_test, y_test) = mnist.load_data()"
   ]
  },
  {
   "cell_type": "code",
   "execution_count": 13,
   "metadata": {},
   "outputs": [
    {
     "data": {
      "image/png": "[encoded data removed]",
      "text/plain": [
       "<Figure size 640x480 with 1 Axes>"
      ]
     },
     "metadata": {},
     "output_type": "display_data"
    }
   ],
   "source": [
    "# Normalize the data\n",
    "x_train = x_train.astype('float32') / 255.0\n",
    "x_test = x_test.astype('float32') / 255.0\n",
    "\n",
    "# Reshape for CNN input\n",
    "x_train = x_train.reshape(-1, 28, 28, 1)\n",
    "x_test = x_test.reshape(-1, 28, 28, 1)\n",
    "\n",
    "rn = random.randint(0, len(x_train))\n",
    "\n",
    "plt.imshow(x_train[rn], cmap='gray')\n",
    "plt.title(f'label: {y_train[rn]}')\n",
    "plt.axis('off')\n",
    "plt.show()"
   ]
  },
  {
   "cell_type": "code",
   "execution_count": 5,
   "metadata": {},
   "outputs": [],
   "source": [
    "# Create a dataset with rotated images\n",
    "def rotate_images(images, labels):\n",
    "    rotated_images = []\n",
    "    rotated_labels = []\n",
    "    \n",
    "    for image, label in zip(images, labels):\n",
    "        # Original image (0 degrees)\n",
    "        rotated_images.append(image)\n",
    "        rotated_labels.append(label)\n",
    "        \n",
    "        # Rotate 90 degrees\n",
    "        rot_90 = tf.image.rot90(image)\n",
    "        rotated_images.append(rot_90)\n",
    "        rotated_labels.append(label)\n",
    "        \n",
    "        # Rotate 180 degrees\n",
    "        rot_180 = tf.image.rot90(rot_90)\n",
    "        rotated_images.append(rot_180)\n",
    "        rotated_labels.append(label)\n",
    "        \n",
    "        # Rotate 270 degrees\n",
    "        rot_270 = tf.image.rot90(rot_180)\n",
    "        rotated_images.append(rot_270)\n",
    "        rotated_labels.append(label)\n",
    "    \n",
    "    return np.array(rotated_images), np.array(rotated_labels)"
   ]
  },
  {
   "cell_type": "code",
   "execution_count": 14,
   "metadata": {},
   "outputs": [
    {
     "name": "stdout",
     "output_type": "stream",
     "text": [
      "X-TRAIN: \n",
      "(40000, 28, 28, 1) (40000,)\n",
      "X-TEST: \n",
      "(4000, 28, 28, 1) (4000,)\n"
     ]
    }
   ],
   "source": [
    "# Create rotated datasets\n",
    "x_train_rot, y_train_rot = rotate_images(x_train[:10000], y_train[:10000])\n",
    "x_test_rot, y_test_rot = rotate_images(x_test[:1000], y_test[:1000])\n",
    "\n",
    "print('X-TRAIN: ')\n",
    "print(x_train_rot.shape, y_train_rot.shape)\n",
    "\n",
    "print('X-TEST: ')\n",
    "print(x_test_rot.shape, y_test_rot.shape)"
   ]
  },
  {
   "cell_type": "code",
   "execution_count": null,
   "metadata": {},
   "outputs": [],
   "source": [
    "# Custom rotation-equivariant layer\n",
    "class RotationEquivariantLayer(layers.Layer):\n",
    "    def __init__(self, filters, kernel_size, **kwargs):\n",
    "        super(RotationEquivariantLayer, self).__init__(**kwargs)\n",
    "        self.filters = filters\n",
    "        self.kernel_size = kernel_size\n",
    "        \n",
    "        # Create a single convolutional layer that will be shared\n",
    "        self.conv = layers.Conv2D(filters, kernel_size, padding='same')\n",
    "        \n",
    "    def call(self, inputs):\n",
    "        # Original orientation (0 degrees)\n",
    "        x_0 = self.conv(inputs)\n",
    "        \n",
    "        # Rotate input 90 degrees, apply conv, then rotate output back\n",
    "        x_90 = tf.image.rot90(inputs, k=1)\n",
    "        x_90 = self.conv(x_90)\n",
    "        x_90 = tf.image.rot90(x_90, k=3)  # Rotate back (270 degrees)\n",
    "        \n",
    "        # Rotate input 180 degrees, apply conv, then rotate output back\n",
    "        x_180 = tf.image.rot90(inputs, k=2)\n",
    "        x_180 = self.conv(x_180)\n",
    "        x_180 = tf.image.rot90(x_180, k=2)  # Rotate back (180 degrees)\n",
    "        \n",
    "        # Rotate input 270 degrees, apply conv, then rotate output back\n",
    "        x_270 = tf.image.rot90(inputs, k=3)\n",
    "        x_270 = self.conv(x_270)\n",
    "        x_270 = tf.image.rot90(x_270, k=1)  # Rotate back (90 degrees)\n",
    "        \n",
    "        # Average the outputs (this gives rotation equivariance)\n",
    "        return (x_0 + x_90 + x_180 + x_270) / 4\n",
    "    \n",
    "    def get_config(self):\n",
    "        config = super(RotationEquivariantLayer, self).get_config()\n",
    "        config.update({\n",
    "            'filters': self.filters,\n",
    "            'kernel_size': self.kernel_size\n",
    "        })\n",
    "        return config"
   ]
  },
  {
   "cell_type": "code",
   "execution_count": 19,
   "metadata": {},
   "outputs": [],
   "source": [
    "# Verify the layer's equivariance property\n",
    "def test_equivariance():\n",
    "    # Create a test image\n",
    "    test_image = x_test[0:1]\n",
    "    \n",
    "    # Create rotated versions\n",
    "    rot_90 = tf.image.rot90(test_image)\n",
    "    rot_180 = tf.image.rot90(rot_90)\n",
    "    rot_270 = tf.image.rot90(rot_180)\n",
    "    \n",
    "    # Create layer instance\n",
    "    layer = RotationEquivariantLayer(16, (3, 3))\n",
    "    \n",
    "    # Apply layer to each rotation\n",
    "    output_0 = layer(test_image)\n",
    "    output_90 = layer(rot_90)\n",
    "    output_180 = layer(rot_180)\n",
    "    output_270 = layer(rot_270)\n",
    "    \n",
    "    # Rotate outputs to compare\n",
    "    rotated_output_90 = tf.image.rot90(output_90, k=3)\n",
    "    rotated_output_180 = tf.image.rot90(output_180, k=2)\n",
    "    rotated_output_270 = tf.image.rot90(output_270, k=1)\n",
    "    \n",
    "    # Check if outputs are similar (should be nearly identical for perfect equivariance)\n",
    "    diff_90 = tf.reduce_mean(tf.abs(output_0 - rotated_output_90))\n",
    "    diff_180 = tf.reduce_mean(tf.abs(output_0 - rotated_output_180))\n",
    "    diff_270 = tf.reduce_mean(tf.abs(output_0 - rotated_output_270))\n",
    "    \n",
    "    print(f\"Mean absolute difference (0° vs 90°): {diff_90.numpy()}\")\n",
    "    print(f\"Mean absolute difference (0° vs 180°): {diff_180.numpy()}\")\n",
    "    print(f\"Mean absolute difference (0° vs 270°): {diff_270.numpy()}\")\n",
    "    \n",
    "    return diff_90.numpy(), diff_180.numpy(), diff_270.numpy()\n"
   ]
  },
  {
   "cell_type": "code",
   "execution_count": null,
   "metadata": {},
   "outputs": [
    {
     "name": "stdout",
     "output_type": "stream",
     "text": [
      " --- MODEL SUMMARY --- \n"
     ]
    },
    {
     "name": "stderr",
     "output_type": "stream",
     "text": [
      "c:\\Users\\Alik\\Desktop\\M_year\\MPhil\\Lent\\A3\\am3353\\a3-env-2\\Lib\\site-packages\\keras\\src\\layers\\convolutional\\base_conv.py:107: UserWarning: Do not pass an `input_shape`/`input_dim` argument to a layer. When using Sequential models, prefer using an `Input(shape)` object as the first layer in the model instead.\n",
      "  super().__init__(activity_regularizer=activity_regularizer, **kwargs)\n",
      "C:\\Users\\Alik\\AppData\\Local\\Temp\\ipykernel_18912\\2926765303.py:4: UserWarning: Do not pass an `input_shape`/`input_dim` argument to a layer. When using Sequential models, prefer using an `Input(shape)` object as the first layer in the model instead.\n",
      "  super(RotationEquivariantLayer, self).__init__(**kwargs)\n"
     ]
    },
    {
     "data": {
      "text/html": [
       "<pre style=\"white-space:pre;overflow-x:auto;line-height:normal;font-family:Menlo,'DejaVu Sans Mono',consolas,'Courier New',monospace\"><span style=\"font-weight: bold\">Model: \"sequential_18\"</span>\n",
       "</pre>\n"
      ],
      "text/plain": [
       "\u001b[1mModel: \"sequential_18\"\u001b[0m\n"
      ]
     },
     "metadata": {},
     "output_type": "display_data"
    },
    {
     "data": {
      "text/html": [
       "<pre style=\"white-space:pre;overflow-x:auto;line-height:normal;font-family:Menlo,'DejaVu Sans Mono',consolas,'Courier New',monospace\">┏━━━━━━━━━━━━━━━━━━━━━━━━━━━━━━━━━┳━━━━━━━━━━━━━━━━━━━━━━━━┳━━━━━━━━━━━━━━━┓\n",
       "┃<span style=\"font-weight: bold\"> Layer (type)                    </span>┃<span style=\"font-weight: bold\"> Output Shape           </span>┃<span style=\"font-weight: bold\">       Param # </span>┃\n",
       "┡━━━━━━━━━━━━━━━━━━━━━━━━━━━━━━━━━╇━━━━━━━━━━━━━━━━━━━━━━━━╇━━━━━━━━━━━━━━━┩\n",
       "│ conv2d_81 (<span style=\"color: #0087ff; text-decoration-color: #0087ff\">Conv2D</span>)              │ (<span style=\"color: #00d7ff; text-decoration-color: #00d7ff\">None</span>, <span style=\"color: #00af00; text-decoration-color: #00af00\">26</span>, <span style=\"color: #00af00; text-decoration-color: #00af00\">26</span>, <span style=\"color: #00af00; text-decoration-color: #00af00\">32</span>)     │           <span style=\"color: #00af00; text-decoration-color: #00af00\">320</span> │\n",
       "├─────────────────────────────────┼────────────────────────┼───────────────┤\n",
       "│ max_pooling2d_106               │ (<span style=\"color: #00d7ff; text-decoration-color: #00d7ff\">None</span>, <span style=\"color: #00af00; text-decoration-color: #00af00\">13</span>, <span style=\"color: #00af00; text-decoration-color: #00af00\">13</span>, <span style=\"color: #00af00; text-decoration-color: #00af00\">32</span>)     │             <span style=\"color: #00af00; text-decoration-color: #00af00\">0</span> │\n",
       "│ (<span style=\"color: #0087ff; text-decoration-color: #0087ff\">MaxPooling2D</span>)                  │                        │               │\n",
       "├─────────────────────────────────┼────────────────────────┼───────────────┤\n",
       "│ conv2d_82 (<span style=\"color: #0087ff; text-decoration-color: #0087ff\">Conv2D</span>)              │ (<span style=\"color: #00d7ff; text-decoration-color: #00d7ff\">None</span>, <span style=\"color: #00af00; text-decoration-color: #00af00\">11</span>, <span style=\"color: #00af00; text-decoration-color: #00af00\">11</span>, <span style=\"color: #00af00; text-decoration-color: #00af00\">64</span>)     │        <span style=\"color: #00af00; text-decoration-color: #00af00\">18,496</span> │\n",
       "├─────────────────────────────────┼────────────────────────┼───────────────┤\n",
       "│ max_pooling2d_107               │ (<span style=\"color: #00d7ff; text-decoration-color: #00d7ff\">None</span>, <span style=\"color: #00af00; text-decoration-color: #00af00\">5</span>, <span style=\"color: #00af00; text-decoration-color: #00af00\">5</span>, <span style=\"color: #00af00; text-decoration-color: #00af00\">64</span>)       │             <span style=\"color: #00af00; text-decoration-color: #00af00\">0</span> │\n",
       "│ (<span style=\"color: #0087ff; text-decoration-color: #0087ff\">MaxPooling2D</span>)                  │                        │               │\n",
       "├─────────────────────────────────┼────────────────────────┼───────────────┤\n",
       "│ flatten_52 (<span style=\"color: #0087ff; text-decoration-color: #0087ff\">Flatten</span>)            │ (<span style=\"color: #00d7ff; text-decoration-color: #00d7ff\">None</span>, <span style=\"color: #00af00; text-decoration-color: #00af00\">1600</span>)           │             <span style=\"color: #00af00; text-decoration-color: #00af00\">0</span> │\n",
       "├─────────────────────────────────┼────────────────────────┼───────────────┤\n",
       "│ dense_62 (<span style=\"color: #0087ff; text-decoration-color: #0087ff\">Dense</span>)                │ (<span style=\"color: #00d7ff; text-decoration-color: #00d7ff\">None</span>, <span style=\"color: #00af00; text-decoration-color: #00af00\">128</span>)            │       <span style=\"color: #00af00; text-decoration-color: #00af00\">204,928</span> │\n",
       "├─────────────────────────────────┼────────────────────────┼───────────────┤\n",
       "│ dense_63 (<span style=\"color: #0087ff; text-decoration-color: #0087ff\">Dense</span>)                │ (<span style=\"color: #00d7ff; text-decoration-color: #00d7ff\">None</span>, <span style=\"color: #00af00; text-decoration-color: #00af00\">10</span>)             │         <span style=\"color: #00af00; text-decoration-color: #00af00\">1,290</span> │\n",
       "└─────────────────────────────────┴────────────────────────┴───────────────┘\n",
       "</pre>\n"
      ],
      "text/plain": [
       "┏━━━━━━━━━━━━━━━━━━━━━━━━━━━━━━━━━┳━━━━━━━━━━━━━━━━━━━━━━━━┳━━━━━━━━━━━━━━━┓\n",
       "┃\u001b[1m \u001b[0m\u001b[1mLayer (type)                   \u001b[0m\u001b[1m \u001b[0m┃\u001b[1m \u001b[0m\u001b[1mOutput Shape          \u001b[0m\u001b[1m \u001b[0m┃\u001b[1m \u001b[0m\u001b[1m      Param #\u001b[0m\u001b[1m \u001b[0m┃\n",
       "┡━━━━━━━━━━━━━━━━━━━━━━━━━━━━━━━━━╇━━━━━━━━━━━━━━━━━━━━━━━━╇━━━━━━━━━━━━━━━┩\n",
       "│ conv2d_81 (\u001b[38;5;33mConv2D\u001b[0m)              │ (\u001b[38;5;45mNone\u001b[0m, \u001b[38;5;34m26\u001b[0m, \u001b[38;5;34m26\u001b[0m, \u001b[38;5;34m32\u001b[0m)     │           \u001b[38;5;34m320\u001b[0m │\n",
       "├─────────────────────────────────┼────────────────────────┼───────────────┤\n",
       "│ max_pooling2d_106               │ (\u001b[38;5;45mNone\u001b[0m, \u001b[38;5;34m13\u001b[0m, \u001b[38;5;34m13\u001b[0m, \u001b[38;5;34m32\u001b[0m)     │             \u001b[38;5;34m0\u001b[0m │\n",
       "│ (\u001b[38;5;33mMaxPooling2D\u001b[0m)                  │                        │               │\n",
       "├─────────────────────────────────┼────────────────────────┼───────────────┤\n",
       "│ conv2d_82 (\u001b[38;5;33mConv2D\u001b[0m)              │ (\u001b[38;5;45mNone\u001b[0m, \u001b[38;5;34m11\u001b[0m, \u001b[38;5;34m11\u001b[0m, \u001b[38;5;34m64\u001b[0m)     │        \u001b[38;5;34m18,496\u001b[0m │\n",
       "├─────────────────────────────────┼────────────────────────┼───────────────┤\n",
       "│ max_pooling2d_107               │ (\u001b[38;5;45mNone\u001b[0m, \u001b[38;5;34m5\u001b[0m, \u001b[38;5;34m5\u001b[0m, \u001b[38;5;34m64\u001b[0m)       │             \u001b[38;5;34m0\u001b[0m │\n",
       "│ (\u001b[38;5;33mMaxPooling2D\u001b[0m)                  │                        │               │\n",
       "├─────────────────────────────────┼────────────────────────┼───────────────┤\n",
       "│ flatten_52 (\u001b[38;5;33mFlatten\u001b[0m)            │ (\u001b[38;5;45mNone\u001b[0m, \u001b[38;5;34m1600\u001b[0m)           │             \u001b[38;5;34m0\u001b[0m │\n",
       "├─────────────────────────────────┼────────────────────────┼───────────────┤\n",
       "│ dense_62 (\u001b[38;5;33mDense\u001b[0m)                │ (\u001b[38;5;45mNone\u001b[0m, \u001b[38;5;34m128\u001b[0m)            │       \u001b[38;5;34m204,928\u001b[0m │\n",
       "├─────────────────────────────────┼────────────────────────┼───────────────┤\n",
       "│ dense_63 (\u001b[38;5;33mDense\u001b[0m)                │ (\u001b[38;5;45mNone\u001b[0m, \u001b[38;5;34m10\u001b[0m)             │         \u001b[38;5;34m1,290\u001b[0m │\n",
       "└─────────────────────────────────┴────────────────────────┴───────────────┘\n"
      ]
     },
     "metadata": {},
     "output_type": "display_data"
    },
    {
     "data": {
      "text/html": [
       "<pre style=\"white-space:pre;overflow-x:auto;line-height:normal;font-family:Menlo,'DejaVu Sans Mono',consolas,'Courier New',monospace\"><span style=\"font-weight: bold\"> Total params: </span><span style=\"color: #00af00; text-decoration-color: #00af00\">225,034</span> (879.04 KB)\n",
       "</pre>\n"
      ],
      "text/plain": [
       "\u001b[1m Total params: \u001b[0m\u001b[38;5;34m225,034\u001b[0m (879.04 KB)\n"
      ]
     },
     "metadata": {},
     "output_type": "display_data"
    },
    {
     "data": {
      "text/html": [
       "<pre style=\"white-space:pre;overflow-x:auto;line-height:normal;font-family:Menlo,'DejaVu Sans Mono',consolas,'Courier New',monospace\"><span style=\"font-weight: bold\"> Trainable params: </span><span style=\"color: #00af00; text-decoration-color: #00af00\">225,034</span> (879.04 KB)\n",
       "</pre>\n"
      ],
      "text/plain": [
       "\u001b[1m Trainable params: \u001b[0m\u001b[38;5;34m225,034\u001b[0m (879.04 KB)\n"
      ]
     },
     "metadata": {},
     "output_type": "display_data"
    },
    {
     "data": {
      "text/html": [
       "<pre style=\"white-space:pre;overflow-x:auto;line-height:normal;font-family:Menlo,'DejaVu Sans Mono',consolas,'Courier New',monospace\"><span style=\"font-weight: bold\"> Non-trainable params: </span><span style=\"color: #00af00; text-decoration-color: #00af00\">0</span> (0.00 B)\n",
       "</pre>\n"
      ],
      "text/plain": [
       "\u001b[1m Non-trainable params: \u001b[0m\u001b[38;5;34m0\u001b[0m (0.00 B)\n"
      ]
     },
     "metadata": {},
     "output_type": "display_data"
    },
    {
     "name": "stdout",
     "output_type": "stream",
     "text": [
      "\n"
     ]
    },
    {
     "data": {
      "text/html": [
       "<pre style=\"white-space:pre;overflow-x:auto;line-height:normal;font-family:Menlo,'DejaVu Sans Mono',consolas,'Courier New',monospace\"><span style=\"font-weight: bold\">Model: \"equivariant_model_16\"</span>\n",
       "</pre>\n"
      ],
      "text/plain": [
       "\u001b[1mModel: \"equivariant_model_16\"\u001b[0m\n"
      ]
     },
     "metadata": {},
     "output_type": "display_data"
    },
    {
     "data": {
      "text/html": [
       "<pre style=\"white-space:pre;overflow-x:auto;line-height:normal;font-family:Menlo,'DejaVu Sans Mono',consolas,'Courier New',monospace\">┏━━━━━━━━━━━━━━━━━━━━━━━━━━━━━━━━━┳━━━━━━━━━━━━━━━━━━━━━━━━┳━━━━━━━━━━━━━━━┓\n",
       "┃<span style=\"font-weight: bold\"> Layer (type)                    </span>┃<span style=\"font-weight: bold\"> Output Shape           </span>┃<span style=\"font-weight: bold\">       Param # </span>┃\n",
       "┡━━━━━━━━━━━━━━━━━━━━━━━━━━━━━━━━━╇━━━━━━━━━━━━━━━━━━━━━━━━╇━━━━━━━━━━━━━━━┩\n",
       "│ rotation_equivariant_layer_45   │ ?                      │   <span style=\"color: #00af00; text-decoration-color: #00af00\">0</span> (unbuilt) │\n",
       "│ (<span style=\"color: #0087ff; text-decoration-color: #0087ff\">RotationEquivariantLayer</span>)      │                        │               │\n",
       "├─────────────────────────────────┼────────────────────────┼───────────────┤\n",
       "│ rotation_equivariant_layer_46   │ ?                      │   <span style=\"color: #00af00; text-decoration-color: #00af00\">0</span> (unbuilt) │\n",
       "│ (<span style=\"color: #0087ff; text-decoration-color: #0087ff\">RotationEquivariantLayer</span>)      │                        │               │\n",
       "├─────────────────────────────────┼────────────────────────┼───────────────┤\n",
       "│ dense_64 (<span style=\"color: #0087ff; text-decoration-color: #0087ff\">Dense</span>)                │ ?                      │   <span style=\"color: #00af00; text-decoration-color: #00af00\">0</span> (unbuilt) │\n",
       "├─────────────────────────────────┼────────────────────────┼───────────────┤\n",
       "│ dense_65 (<span style=\"color: #0087ff; text-decoration-color: #0087ff\">Dense</span>)                │ ?                      │   <span style=\"color: #00af00; text-decoration-color: #00af00\">0</span> (unbuilt) │\n",
       "└─────────────────────────────────┴────────────────────────┴───────────────┘\n",
       "</pre>\n"
      ],
      "text/plain": [
       "┏━━━━━━━━━━━━━━━━━━━━━━━━━━━━━━━━━┳━━━━━━━━━━━━━━━━━━━━━━━━┳━━━━━━━━━━━━━━━┓\n",
       "┃\u001b[1m \u001b[0m\u001b[1mLayer (type)                   \u001b[0m\u001b[1m \u001b[0m┃\u001b[1m \u001b[0m\u001b[1mOutput Shape          \u001b[0m\u001b[1m \u001b[0m┃\u001b[1m \u001b[0m\u001b[1m      Param #\u001b[0m\u001b[1m \u001b[0m┃\n",
       "┡━━━━━━━━━━━━━━━━━━━━━━━━━━━━━━━━━╇━━━━━━━━━━━━━━━━━━━━━━━━╇━━━━━━━━━━━━━━━┩\n",
       "│ rotation_equivariant_layer_45   │ ?                      │   \u001b[38;5;34m0\u001b[0m (unbuilt) │\n",
       "│ (\u001b[38;5;33mRotationEquivariantLayer\u001b[0m)      │                        │               │\n",
       "├─────────────────────────────────┼────────────────────────┼───────────────┤\n",
       "│ rotation_equivariant_layer_46   │ ?                      │   \u001b[38;5;34m0\u001b[0m (unbuilt) │\n",
       "│ (\u001b[38;5;33mRotationEquivariantLayer\u001b[0m)      │                        │               │\n",
       "├─────────────────────────────────┼────────────────────────┼───────────────┤\n",
       "│ dense_64 (\u001b[38;5;33mDense\u001b[0m)                │ ?                      │   \u001b[38;5;34m0\u001b[0m (unbuilt) │\n",
       "├─────────────────────────────────┼────────────────────────┼───────────────┤\n",
       "│ dense_65 (\u001b[38;5;33mDense\u001b[0m)                │ ?                      │   \u001b[38;5;34m0\u001b[0m (unbuilt) │\n",
       "└─────────────────────────────────┴────────────────────────┴───────────────┘\n"
      ]
     },
     "metadata": {},
     "output_type": "display_data"
    },
    {
     "data": {
      "text/html": [
       "<pre style=\"white-space:pre;overflow-x:auto;line-height:normal;font-family:Menlo,'DejaVu Sans Mono',consolas,'Courier New',monospace\"><span style=\"font-weight: bold\"> Total params: </span><span style=\"color: #00af00; text-decoration-color: #00af00\">0</span> (0.00 B)\n",
       "</pre>\n"
      ],
      "text/plain": [
       "\u001b[1m Total params: \u001b[0m\u001b[38;5;34m0\u001b[0m (0.00 B)\n"
      ]
     },
     "metadata": {},
     "output_type": "display_data"
    },
    {
     "data": {
      "text/html": [
       "<pre style=\"white-space:pre;overflow-x:auto;line-height:normal;font-family:Menlo,'DejaVu Sans Mono',consolas,'Courier New',monospace\"><span style=\"font-weight: bold\"> Trainable params: </span><span style=\"color: #00af00; text-decoration-color: #00af00\">0</span> (0.00 B)\n",
       "</pre>\n"
      ],
      "text/plain": [
       "\u001b[1m Trainable params: \u001b[0m\u001b[38;5;34m0\u001b[0m (0.00 B)\n"
      ]
     },
     "metadata": {},
     "output_type": "display_data"
    },
    {
     "data": {
      "text/html": [
       "<pre style=\"white-space:pre;overflow-x:auto;line-height:normal;font-family:Menlo,'DejaVu Sans Mono',consolas,'Courier New',monospace\"><span style=\"font-weight: bold\"> Non-trainable params: </span><span style=\"color: #00af00; text-decoration-color: #00af00\">0</span> (0.00 B)\n",
       "</pre>\n"
      ],
      "text/plain": [
       "\u001b[1m Non-trainable params: \u001b[0m\u001b[38;5;34m0\u001b[0m (0.00 B)\n"
      ]
     },
     "metadata": {},
     "output_type": "display_data"
    }
   ],
   "source": [
    "# Create regular CNN model\n",
    "def create_regular_model():\n",
    "    model = keras.Sequential([\n",
    "        layers.Conv2D(32, (3, 3), activation='relu', input_shape=(28, 28, 1)),\n",
    "        layers.MaxPooling2D((2, 2)),\n",
    "        layers.Conv2D(64, (3, 3), activation='relu'),\n",
    "        layers.MaxPooling2D((2, 2)),\n",
    "        layers.Flatten(),\n",
    "        layers.Dense(128, activation='relu'),\n",
    "        layers.Dense(10, activation='softmax')\n",
    "    ])\n",
    "    \n",
    "    model.compile(\n",
    "        optimizer='adam',\n",
    "        loss='sparse_categorical_crossentropy',\n",
    "        metrics=['accuracy']\n",
    "    )\n",
    "    \n",
    "    return model\n",
    "\n",
    "regular_model = create_regular_model()\n",
    "\n",
    "# Create equivariant CNN model\n",
    "class EquivariantModel(keras.models.Model):\n",
    "    def __init__(self, num_class = 10, input_shape = (28, 28, 1), kernel_size = (3, 3), output_size = [32, 64], is_visual = False):\n",
    "        super(EquivariantModel, self).__init__()\n",
    "        \n",
    "        self.is_visual = is_visual\n",
    "        self.eq_layer_1 = RotationEquivariantLayer(filters=output_size[0], kernel_size=kernel_size, input_shape=input_shape)\n",
    "        self.eq_layer_2 = RotationEquivariantLayer(filters=output_size[-1], kernel_size=kernel_size)\n",
    "        self.dense_1 = layers.Dense(128, activation='relu')\n",
    "        self.dense_2 = layers.Dense(num_class, activation='softmax')\n",
    "\n",
    "    \n",
    "    def call(self, x):\n",
    "        \n",
    "        x_eq_1 = self.eq_layer_1(x)\n",
    "        x = layers.Activation('relu')(x_eq_1) ## NO params here\n",
    "        x = layers.MaxPooling2D((2, 2))(x)\n",
    "\n",
    "        x_eq_2 = self.eq_layer_2(x)\n",
    "        x = layers.Activation('relu')(x_eq_2) ## NO params here\n",
    "        x = layers.MaxPooling2D((2, 2))(x)\n",
    "        \n",
    "        x = layers.Flatten()(x)\n",
    "        x = self.dense_1(x)\n",
    "        x = self.dense_2(x)\n",
    "\n",
    "        # if self.is_visual:\n",
    "        #     self.visual([x_eq_1, x_eq_2])\n",
    "\n",
    "        return x\n",
    "    \n",
    "    def visual(self, x_eq):\n",
    "        '''\n",
    "        Plots the Evolution of Response Maps (by Equivariance Layers)\n",
    "        '''\n",
    "        x_eq_1, x_eq_2 = x_eq\n",
    "\n",
    "        fig, axs = plt.subplots(1, 2, figsize=(6, 6))\n",
    "        \n",
    "        axs[0].imshow(x_eq_1[0, :, :, 0], cmap='gray')\n",
    "        axs[1].imshow(x_eq_2[0, :, :, 0], cmap='gray')\n",
    "\n",
    "        axs[0].set_title('Equivariance-Layer-1')\n",
    "        axs[1].set_title('Equivariance-Layer-2')\n",
    "\n",
    "        plt.show()\n",
    "\n",
    "class ResponseMapVisualizationCallback(keras.callbacks.Callback):\n",
    "    def __init__(self, sample_input, frequency=1):\n",
    "        super().__init__()\n",
    "        self.sample_input = sample_input\n",
    "        self.frequency = frequency\n",
    "\n",
    "    def on_epoch_end(self, epoch, logs=None):\n",
    "        if (epoch + 1) % self.frequency == 0:  # Visualize every 'frequency' epochs\n",
    "            # Create submodel to get intermediate outputs\n",
    "            submodel = keras.Model(inputs=self.model.input, \n",
    "                                   outputs=[self.model.eq_layer_1.output, self.model.eq_layer_2.output])\n",
    "            outputs = submodel.predict(self.sample_input)\n",
    "            self.model.visual(outputs)\n",
    "\n",
    "eq_model = EquivariantModel(is_visual=True)\n",
    "eq_model.compile(optimizer='adam', loss='sparse_categorical_crossentropy', metrics=['accuracy'])\n",
    "\n",
    "print(' --- MODEL SUMMARY --- ')\n",
    "regular_model.summary()\n",
    "print()\n",
    "eq_model.summary()"
   ]
  },
  {
   "cell_type": "code",
   "execution_count": 55,
   "metadata": {},
   "outputs": [
    {
     "name": "stdout",
     "output_type": "stream",
     "text": [
      "Mean absolute difference (0° vs 90°): 7.259259103686161e-22\n",
      "Mean absolute difference (0° vs 180°): 7.5250408576957755e-22\n",
      "Mean absolute difference (0° vs 270°): 7.661829086225609e-22\n",
      "\n"
     ]
    },
    {
     "data": {
      "image/png": "[encoded data removed]",
      "text/plain": [
       "<Figure size 400x400 with 1 Axes>"
      ]
     },
     "metadata": {},
     "output_type": "display_data"
    },
    {
     "name": "stdout",
     "output_type": "stream",
     "text": [
      "Epoch 1/5\n",
      "\u001b[1m5/5\u001b[0m \u001b[32m━━━━━━━━━━━━━━━━━━━━\u001b[0m\u001b[37m\u001b[0m \u001b[1m0s\u001b[0m 62ms/step - accuracy: 0.0547 - loss: 2.3028tf.Tensor(\n",
      "[[0.09817953 0.10179118 0.10116448 0.10031916 0.10160413 0.09847417\n",
      "  0.09849759 0.10041094 0.09929615 0.10026261]], shape=(1, 10), dtype=float32)\n"
     ]
    },
    {
     "ename": "AttributeError",
     "evalue": "The layer equivariant_model_16 has never been called and thus has no defined input.",
     "output_type": "error",
     "traceback": [
      "\u001b[31m---------------------------------------------------------------------------\u001b[39m",
      "\u001b[31mAttributeError\u001b[39m                            Traceback (most recent call last)",
      "\u001b[36mCell\u001b[39m\u001b[36m \u001b[39m\u001b[32mIn[55]\u001b[39m\u001b[32m, line 26\u001b[39m\n\u001b[32m     23\u001b[39m viz_callback = ResponseMapVisualizationCallback(sample_input=sample_input, frequency=\u001b[32m1\u001b[39m)\n\u001b[32m     25\u001b[39m \u001b[38;5;66;03m# Train and evaluate equivariant model\u001b[39;00m\n\u001b[32m---> \u001b[39m\u001b[32m26\u001b[39m equivariant_history = \u001b[43meq_model\u001b[49m\u001b[43m.\u001b[49m\u001b[43mfit\u001b[49m\u001b[43m(\u001b[49m\n\u001b[32m     27\u001b[39m \u001b[43m    \u001b[49m\u001b[43mx_train_rot\u001b[49m\u001b[43m,\u001b[49m\u001b[43m \u001b[49m\u001b[43my_train_rot\u001b[49m\u001b[43m,\u001b[49m\n\u001b[32m     28\u001b[39m \u001b[43m    \u001b[49m\u001b[43mepochs\u001b[49m\u001b[43m=\u001b[49m\u001b[32;43m5\u001b[39;49m\u001b[43m,\u001b[49m\n\u001b[32m     29\u001b[39m \u001b[43m    \u001b[49m\u001b[43mbatch_size\u001b[49m\u001b[43m=\u001b[49m\u001b[32;43m64\u001b[39;49m\u001b[43m,\u001b[49m\n\u001b[32m     30\u001b[39m \u001b[43m    \u001b[49m\u001b[43mvalidation_split\u001b[49m\u001b[43m=\u001b[49m\u001b[32;43m0.2\u001b[39;49m\u001b[43m,\u001b[49m\n\u001b[32m     31\u001b[39m \u001b[43m    \u001b[49m\u001b[43mcallbacks\u001b[49m\u001b[43m=\u001b[49m\u001b[43m[\u001b[49m\u001b[43mviz_callback\u001b[49m\u001b[43m]\u001b[49m\u001b[43m,\u001b[49m\n\u001b[32m     32\u001b[39m \u001b[43m    \u001b[49m\u001b[43mverbose\u001b[49m\u001b[43m=\u001b[49m\u001b[32;43m1\u001b[39;49m\u001b[43m,\u001b[49m\n\u001b[32m     33\u001b[39m \u001b[43m    \u001b[49m\u001b[43msteps_per_epoch\u001b[49m\u001b[43m=\u001b[49m\u001b[32;43m5\u001b[39;49m\n\u001b[32m     34\u001b[39m \u001b[43m)\u001b[49m\n\u001b[32m     36\u001b[39m equivariant_score = eq_model.evaluate(x_test_rot, y_test_rot)\n\u001b[32m     37\u001b[39m \u001b[38;5;28mprint\u001b[39m(\u001b[33mf\u001b[39m\u001b[33m\"\u001b[39m\u001b[33mEquivariant CNN - Test Loss: \u001b[39m\u001b[38;5;132;01m{\u001b[39;00mequivariant_score[\u001b[32m0\u001b[39m]\u001b[38;5;132;01m}\u001b[39;00m\u001b[33m, Test Accuracy: \u001b[39m\u001b[38;5;132;01m{\u001b[39;00mequivariant_score[\u001b[32m1\u001b[39m]\u001b[38;5;132;01m}\u001b[39;00m\u001b[33m\"\u001b[39m)\n",
      "\u001b[36mFile \u001b[39m\u001b[32mc:\\Users\\Alik\\Desktop\\M_year\\MPhil\\Lent\\A3\\am3353\\a3-env-2\\Lib\\site-packages\\keras\\src\\utils\\traceback_utils.py:122\u001b[39m, in \u001b[36mfilter_traceback.<locals>.error_handler\u001b[39m\u001b[34m(*args, **kwargs)\u001b[39m\n\u001b[32m    119\u001b[39m     filtered_tb = _process_traceback_frames(e.__traceback__)\n\u001b[32m    120\u001b[39m     \u001b[38;5;66;03m# To get the full stack trace, call:\u001b[39;00m\n\u001b[32m    121\u001b[39m     \u001b[38;5;66;03m# `keras.config.disable_traceback_filtering()`\u001b[39;00m\n\u001b[32m--> \u001b[39m\u001b[32m122\u001b[39m     \u001b[38;5;28;01mraise\u001b[39;00m e.with_traceback(filtered_tb) \u001b[38;5;28;01mfrom\u001b[39;00m\u001b[38;5;250m \u001b[39m\u001b[38;5;28;01mNone\u001b[39;00m\n\u001b[32m    123\u001b[39m \u001b[38;5;28;01mfinally\u001b[39;00m:\n\u001b[32m    124\u001b[39m     \u001b[38;5;28;01mdel\u001b[39;00m filtered_tb\n",
      "\u001b[36mCell\u001b[39m\u001b[36m \u001b[39m\u001b[32mIn[54]\u001b[39m\u001b[32m, line 80\u001b[39m, in \u001b[36mResponseMapVisualizationCallback.on_epoch_end\u001b[39m\u001b[34m(self, epoch, logs)\u001b[39m\n\u001b[32m     77\u001b[39m \u001b[38;5;28;01mif\u001b[39;00m (epoch + \u001b[32m1\u001b[39m) % \u001b[38;5;28mself\u001b[39m.frequency == \u001b[32m0\u001b[39m:  \u001b[38;5;66;03m# Visualize every 'frequency' epochs\u001b[39;00m\n\u001b[32m     78\u001b[39m     \u001b[38;5;66;03m# Create submodel to get intermediate outputs\u001b[39;00m\n\u001b[32m     79\u001b[39m     \u001b[38;5;28mprint\u001b[39m(\u001b[38;5;28mself\u001b[39m.model.call(\u001b[38;5;28mself\u001b[39m.sample_input))\n\u001b[32m---> \u001b[39m\u001b[32m80\u001b[39m     submodel = keras.Model(inputs=\u001b[38;5;28;43mself\u001b[39;49m\u001b[43m.\u001b[49m\u001b[43mmodel\u001b[49m\u001b[43m.\u001b[49m\u001b[43minput\u001b[49m, \n\u001b[32m     81\u001b[39m                            outputs=[\u001b[38;5;28mself\u001b[39m.model.eq_layer_1.output, \u001b[38;5;28mself\u001b[39m.model.eq_layer_2.output])\n\u001b[32m     82\u001b[39m     outputs = submodel.predict(\u001b[38;5;28mself\u001b[39m.sample_input)\n\u001b[32m     83\u001b[39m     \u001b[38;5;28mself\u001b[39m.model.visual(outputs)\n",
      "\u001b[31mAttributeError\u001b[39m: The layer equivariant_model_16 has never been called and thus has no defined input."
     ]
    }
   ],
   "source": [
    "# Test equivariance property\n",
    "diffs = test_equivariance()\n",
    "print()\n",
    "# # Train and evaluate regular model\n",
    "# regular_model = create_regular_model()\n",
    "# regular_history = regular_model.fit(\n",
    "#     x_train_rot, y_train_rot,\n",
    "#     epochs=5,\n",
    "#     batch_size=64,\n",
    "#     validation_split=0.2,\n",
    "#     verbose=1\n",
    "# )\n",
    "\n",
    "# regular_score = regular_model.evaluate(x_test_rot, y_test_rot)\n",
    "# print(f\"Regular CNN - Test Loss: {regular_score[0]}, Test Accuracy: {regular_score[1]}\")\n",
    "\n",
    "sample_input = x_train_rot[:1].reshape(1, 28, 28, 1)\n",
    "plt.figure(figsize=(4, 4))\n",
    "plt.imshow(sample_input[0], cmap='gray')\n",
    "plt.axis('off')\n",
    "plt.show()\n",
    "\n",
    "viz_callback = ResponseMapVisualizationCallback(sample_input=sample_input, frequency=1)\n",
    "\n",
    "# Train and evaluate equivariant model\n",
    "equivariant_history = eq_model.fit(\n",
    "    x_train_rot, y_train_rot,\n",
    "    epochs=5,\n",
    "    batch_size=64,\n",
    "    validation_split=0.2,\n",
    "    callbacks=[viz_callback],\n",
    "    verbose=1,\n",
    "    steps_per_epoch=5\n",
    ")\n",
    "\n",
    "equivariant_score = eq_model.evaluate(x_test_rot, y_test_rot)\n",
    "print(f\"Equivariant CNN - Test Loss: {equivariant_score[0]}, Test Accuracy: {equivariant_score[1]}\")\n"
   ]
  },
  {
   "cell_type": "code",
   "execution_count": null,
   "metadata": {},
   "outputs": [],
   "source": [
    "# Plot training histories\n",
    "plt.figure(figsize=(12, 4))\n",
    "plt.subplot(1, 2, 1)\n",
    "plt.plot(regular_history.history['accuracy'], label='Regular - Training')\n",
    "plt.plot(regular_history.history['val_accuracy'], label='Regular - Validation')\n",
    "plt.plot(equivariant_history.history['accuracy'], label='Equivariant - Training')\n",
    "plt.plot(equivariant_history.history['val_accuracy'], label='Equivariant - Validation')\n",
    "plt.title('Model Accuracy')\n",
    "plt.ylabel('Accuracy')\n",
    "plt.xlabel('Epoch')\n",
    "plt.legend()\n",
    "\n",
    "plt.subplot(1, 2, 2)\n",
    "plt.plot(regular_history.history['loss'], label='Regular - Training')\n",
    "plt.plot(regular_history.history['val_loss'], label='Regular - Validation')\n",
    "plt.plot(equivariant_history.history['loss'], label='Equivariant - Training')\n",
    "plt.plot(equivariant_history.history['val_loss'], label='Equivariant - Validation')\n",
    "plt.title('Model Loss')\n",
    "plt.ylabel('Loss')\n",
    "plt.xlabel('Epoch')\n",
    "plt.legend()\n",
    "\n",
    "plt.tight_layout()\n",
    "plt.savefig('rotation_equivariant_performance.png')\n",
    "plt.show()"
   ]
  },
  {
   "cell_type": "code",
   "execution_count": null,
   "metadata": {},
   "outputs": [],
   "source": []
  }
 ],
 "metadata": {
  "kernelspec": {
   "display_name": "a3-env-2",
   "language": "python",
   "name": "python3"
  },
  "language_info": {
   "codemirror_mode": {
    "name": "ipython",
    "version": 3
   },
   "file_extension": ".py",
   "mimetype": "text/x-python",
   "name": "python",
   "nbconvert_exporter": "python",
   "pygments_lexer": "ipython3",
   "version": "3.12.3"
  }
 },
 "nbformat": 4,
 "nbformat_minor": 2
}
