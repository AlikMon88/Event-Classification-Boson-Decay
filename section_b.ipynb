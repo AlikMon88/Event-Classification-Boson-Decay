{
 "cells": [
  {
   "cell_type": "markdown",
   "metadata": {},
   "source": [
    "#### SECTION B"
   ]
  },
  {
   "cell_type": "code",
   "execution_count": null,
   "metadata": {
    "vscode": {
     "languageId": "plaintext"
    }
   },
   "outputs": [],
   "source": [
    "import numpy as np\n",
    "import pandas as pd\n",
    "import matplotlib.pyplot as plt\n",
    "import uproot\n",
    "import xgboost as xgb\n",
    "from sklearn.model_selection import train_test_split\n",
    "from sklearn.metrics import roc_curve, auc\n",
    "import scipy.optimize as opt\n",
    "from scipy.stats import chi2\n",
    "\n",
    "import random\n",
    "import os"
   ]
  },
  {
   "cell_type": "code",
   "execution_count": null,
   "metadata": {
    "vscode": {
     "languageId": "plaintext"
    }
   },
   "outputs": [],
   "source": [
    "# Define paths to data files\n",
    "signal_file = \"Bs2DsPi/Bs2DsPi_MCsignal.root\"\n",
    "background_file = \"Bs2DsPi/Bs2DsPi_MCcomb.root\"\n",
    "data_file = \"Bs2DsPi/Bs2DsPi_Data.root\"\n",
    "\n",
    "# Function to load data from ROOT files\n",
    "def load_root_file(file_path, tree_name=\"DecayTree\"):\n",
    "    with uproot.open(file_path) as file:\n",
    "        tree = file[tree_name]\n",
    "        return tree.arrays(library=\"pd\")\n",
    "\n",
    "# Load data\n",
    "signal_df = load_root_file(signal_file)\n",
    "background_df = load_root_file(background_file)\n",
    "data_df = load_root_file(data_file)"
   ]
  },
  {
   "cell_type": "code",
   "execution_count": null,
   "metadata": {
    "vscode": {
     "languageId": "plaintext"
    }
   },
   "outputs": [],
   "source": [
    "\n",
    "# Print information about the datasets\n",
    "print(f\"Signal samples: {len(signal_df)}\")\n",
    "print(f\"Background samples: {len(background_df)}\")\n",
    "print(f\"Data samples: {len(data_df)}\")\n",
    "\n",
    "# Define features for training\n",
    "features = [\n",
    "    'B_PT', 'B_ETA', 'B_IPCHI2_OWNPV', 'B_FDCHI2_OWNPV', 'B_DIRA_OWNPV',\n",
    "    'Ds_PT', 'Ds_IPCHI2_OWNPV', 'Ds_FDCHI2_OWNPV', 'Ds_DIRA_OWNPV',\n",
    "    'h1_PT', 'h1_IPCHI2_OWNPV',\n",
    "    'h2_PT', 'h2_IPCHI2_OWNPV',\n",
    "    'h3_PT', 'h3_IPCHI2_OWNPV',\n",
    "    'Pi_PT', 'Pi_IPCHI2_OWNPV'\n",
    "]\n",
    "\n",
    "# Check if any features are missing in our datasets\n",
    "missing_in_signal = [f for f in features if f not in signal_df.columns]\n",
    "missing_in_bg = [f for f in features if f not in background_df.columns]\n",
    "missing_in_data = [f for f in features if f not in data_df.columns]\n",
    "\n",
    "if missing_in_signal or missing_in_bg or missing_in_data:\n",
    "    print(f\"Missing features in signal: {missing_in_signal}\")\n",
    "    print(f\"Missing features in background: {missing_in_bg}\")\n",
    "    print(f\"Missing features in data: {missing_in_data}\")\n",
    "    # Adjust features list if needed\n",
    "    features = [f for f in features if f in signal_df.columns and f in background_df.columns and f in data_df.columns]\n",
    "\n",
    "# Prepare the training data\n",
    "X_signal = signal_df[features]\n",
    "X_background = background_df[features]\n",
    "\n",
    "y_signal = np.ones(len(X_signal))\n",
    "y_background = np.zeros(len(X_background))\n",
    "\n",
    "X = pd.concat([X_signal, X_background])\n",
    "y = np.concatenate([y_signal, y_background])\n",
    "\n",
    "# Split the data into training and testing sets\n",
    "X_train, X_test, y_train, y_test = train_test_split(X, y, test_size=0.3, random_state=42)"
   ]
  },
  {
   "cell_type": "code",
   "execution_count": null,
   "metadata": {
    "vscode": {
     "languageId": "plaintext"
    }
   },
   "outputs": [],
   "source": [
    "# Make predictions on test set\n",
    "y_pred = model.predict_proba(X_test)[:, 1]\n",
    "\n",
    "# Plot ROC curve\n",
    "fpr, tpr, thresholds = roc_curve(y_test, y_pred)\n",
    "roc_auc = auc(fpr, tpr)\n",
    "\n",
    "plt.figure(figsize=(8, 6))\n",
    "plt.plot(fpr, tpr, lw=2, label=f'ROC curve (area = {roc_auc:.3f})')\n",
    "plt.plot([0, 1], [0, 1], 'k--', lw=2)\n",
    "plt.xlim([0.0, 1.0])\n",
    "plt.ylim([0.0, 1.05])\n",
    "plt.xlabel('False Positive Rate')\n",
    "plt.ylabel('True Positive Rate')\n",
    "plt.title('Receiver Operating Characteristic')\n",
    "plt.legend(loc=\"lower right\")\n",
    "plt.savefig(\"roc_curve.png\")\n",
    "\n",
    "# Apply the model to the real data\n",
    "data_predictions = model.predict_proba(data_df[features])[:, 1]\n",
    "data_df['bdt_score'] = data_predictions"
   ]
  },
  {
   "cell_type": "code",
   "execution_count": null,
   "metadata": {
    "vscode": {
     "languageId": "plaintext"
    }
   },
   "outputs": [],
   "source": [
    "# Train an XGBoost classifier\n",
    "model = xgb.XGBClassifier(\n",
    "    n_estimators=200,\n",
    "    max_depth=5,\n",
    "    learning_rate=0.1,\n",
    "    gamma=0,\n",
    "    subsample=0.8,\n",
    "    colsample_bytree=0.8,\n",
    "    objective='binary:logistic',\n",
    "    random_state=42\n",
    ")\n",
    "\n",
    "model.fit(X_train, y_train)\n",
    "\n",
    "# Get feature importances\n",
    "importance = model.feature_importances_\n",
    "indices = np.argsort(importance)[::-1]"
   ]
  },
  {
   "cell_type": "code",
   "execution_count": null,
   "metadata": {
    "vscode": {
     "languageId": "plaintext"
    }
   },
   "outputs": [],
   "source": [
    "\n",
    "# Plot feature importances\n",
    "plt.figure(figsize=(10, 6))\n",
    "plt.title(\"Feature Importances\")\n",
    "plt.bar(range(len(features)), importance[indices], align=\"center\")\n",
    "plt.xticks(range(len(features)), [features[i] for i in indices], rotation=90)\n",
    "plt.tight_layout()\n",
    "plt.savefig(\"feature_importances.png\")"
   ]
  },
  {
   "cell_type": "code",
   "execution_count": null,
   "metadata": {
    "vscode": {
     "languageId": "plaintext"
    }
   },
   "outputs": [],
   "source": [
    "# Function to fit the B_M distribution\n",
    "def fit_mass_distribution(df, mass_range=(5300, 5500)):\n",
    "    # Create histogram of mass\n",
    "    hist, bin_edges = np.histogram(df['B_M'], bins=50, range=mass_range)\n",
    "    bin_centers = (bin_edges[:-1] + bin_edges[1:]) / 2\n",
    "    bin_width = bin_edges[1] - bin_edges[0]\n",
    "    \n",
    "    # Define fit functions\n",
    "    def gaussian(x, amp, mu, sigma):\n",
    "        return amp * np.exp(-0.5 * ((x - mu) / sigma)**2)\n",
    "    \n",
    "    def exponential(x, a, b):\n",
    "        return a * np.exp(-b * x)\n",
    "    \n",
    "    def combined_model(x, amp_gauss, mu_gauss, sigma_gauss, a_exp, b_exp):\n",
    "        return gaussian(x, amp_gauss, mu_gauss, sigma_gauss) + exponential(x, a_exp, b_exp)\n",
    "    \n",
    "    # Initial guesses\n",
    "    p0 = [100, 5366.9, 15, 1000, 0.001]\n",
    "    \n",
    "    # Fit\n",
    "    popt, pcov = opt.curve_fit(combined_model, bin_centers, hist, p0=p0)\n",
    "    \n",
    "    # Extract parameters\n",
    "    amp_gauss, mu_gauss, sigma_gauss, a_exp, b_exp = popt\n",
    "    \n",
    "    # Calculate errors\n",
    "    perr = np.sqrt(np.diag(pcov))\n",
    "    \n",
    "    # Calculate signal and background components\n",
    "    signal_component = gaussian(bin_centers, amp_gauss, mu_gauss, sigma_gauss)\n",
    "    background_component = exponential(bin_centers, a_exp, b_exp)\n",
    "    \n",
    "    # Integrate to get event counts\n",
    "    total_signal = np.sum(signal_component) * bin_width\n",
    "    total_background = np.sum(background_component) * bin_width\n",
    "    \n",
    "    # Goodness of fit (chi2/ndof)\n",
    "    expected = combined_model(bin_centers, *popt)\n",
    "    chi2_val = np.sum((hist - expected)**2 / expected)\n",
    "    ndof = len(bin_centers) - len(popt)\n",
    "    \n",
    "    # Plot the fit\n",
    "    plt.figure(figsize=(10, 8))\n",
    "    plt.hist(df['B_M'], bins=50, range=mass_range, alpha=0.6, label='Data')\n",
    "    \n",
    "    x_fit = np.linspace(mass_range[0], mass_range[1], 1000)\n",
    "    plt.plot(x_fit, combined_model(x_fit, *popt) * bin_width, 'r-', label='Combined Fit')\n",
    "    plt.plot(x_fit, gaussian(x_fit, amp_gauss, mu_gauss, sigma_gauss) * bin_width, 'g--', label='Signal')\n",
    "    plt.plot(x_fit, exponential(x_fit, a_exp, b_exp) * bin_width, 'b--', label='Background')\n",
    "    \n",
    "    plt.xlabel('B_M (MeV)')\n",
    "    plt.ylabel('Events / ({:.1f} MeV)'.format(bin_width))\n",
    "    plt.title(r'Fit to $B_s^0 \\to D_s^- \\pi^+$ Mass Distribution')\n",
    "    plt.legend()\n",
    "    plt.text(mass_range[0] + 10, 0.8 * max(hist), \n",
    "             f'Signal yield = {total_signal:.1f} ± {perr[0]:.1f}\\n'\n",
    "             f'$\\mu$ = {mu_gauss:.2f} ± {perr[1]:.2f} MeV\\n'\n",
    "             f'$\\sigma$ = {sigma_gauss:.2f} ± {perr[2]:.2f} MeV\\n'\n",
    "             f'S/B = {total_signal/total_background:.2f}\\n'\n",
    "             f'$\\chi^2$/ndof = {chi2_val:.1f}/{ndof} = {chi2_val/ndof:.2f}')\n",
    "    plt.tight_layout()\n",
    "    plt.savefig(\"initial_mass_fit.png\")\n",
    "    \n",
    "    return {\n",
    "        'mu': mu_gauss,\n",
    "        'sigma': sigma_gauss,\n",
    "        'signal': total_signal,\n",
    "        'background': total_background,\n",
    "        'S_over_B': total_signal / total_background\n",
    "    }\n"
   ]
  },
  {
   "cell_type": "code",
   "execution_count": null,
   "metadata": {
    "vscode": {
     "languageId": "plaintext"
    }
   },
   "outputs": [],
   "source": [
    "\n",
    "# Perform initial fit to estimate signal and background\n",
    "fit_results = fit_mass_distribution(data_df)\n",
    "print(\"Initial fit results:\", fit_results)\n",
    "\n",
    "# Function to calculate S/sqrt(S+B) for different BDT score cuts\n",
    "def calculate_fom(df, cut_value, mass_range=(5300, 5500)):\n",
    "    # Apply BDT cut\n",
    "    df_cut = df[df['bdt_score'] > cut_value]\n",
    "    \n",
    "    if len(df_cut) < 100:  # Not enough events for a reasonable fit\n",
    "        return 0, 0, 0\n",
    "    \n",
    "    # Create histogram of mass\n",
    "    hist, bin_edges = np.histogram(df_cut['B_M'], bins=30, range=mass_range)\n",
    "    bin_centers = (bin_edges[:-1] + bin_edges[1:]) / 2\n",
    "    bin_width = bin_edges[1] - bin_edges[0]\n",
    "    \n",
    "    # Define fit functions\n",
    "    def gaussian(x, amp, mu, sigma):\n",
    "        return amp * np.exp(-0.5 * ((x - mu) / sigma)**2)\n",
    "    \n",
    "    def exponential(x, a, b):\n",
    "        return a * np.exp(-b * x)\n",
    "    \n",
    "    def combined_model(x, amp_gauss, mu_gauss, sigma_gauss, a_exp, b_exp):\n",
    "        return gaussian(x, amp_gauss, mu_gauss, sigma_gauss) + exponential(x, a_exp, b_exp)\n",
    "    \n",
    "    # Initial guesses based on previous fit\n",
    "    p0 = [100, fit_results['mu'], fit_results['sigma'], 1000, 0.001]\n",
    "    \n",
    "    try:\n",
    "        # Fit\n",
    "        popt, _ = opt.curve_fit(combined_model, bin_centers, hist, p0=p0)\n",
    "        \n",
    "        # Extract parameters\n",
    "        amp_gauss, mu_gauss, sigma_gauss, a_exp, b_exp = popt\n",
    "        \n",
    "        # Calculate signal and background in ±3σ region\n",
    "        signal_region = (mu_gauss - 3*sigma_gauss, mu_gauss + 3*sigma_gauss)\n",
    "        x_signal_region = np.linspace(signal_region[0], signal_region[1], 1000)\n",
    "        bin_width_sr = (signal_region[1] - signal_region[0]) / len(x_signal_region)\n",
    "        \n",
    "        signal_component = gaussian(x_signal_region, amp_gauss, mu_gauss, sigma_gauss)\n",
    "        background_component = exponential(x_signal_region, a_exp, b_exp)\n",
    "        \n",
    "        # Integrate to get event counts in signal region\n",
    "        S = np.sum(signal_component) * bin_width_sr\n",
    "        B = np.sum(background_component) * bin_width_sr\n",
    "        \n",
    "        # Calculate Figure of Merit: S/sqrt(S+B)\n",
    "        fom = S / np.sqrt(S + B) if (S + B) > 0 else 0\n",
    "        \n",
    "        return fom, S, B\n",
    "    \n",
    "    except:\n",
    "        return 0, 0, 0"
   ]
  },
  {
   "cell_type": "code",
   "execution_count": null,
   "metadata": {
    "vscode": {
     "languageId": "plaintext"
    }
   },
   "outputs": [],
   "source": [
    "\n",
    "# Optimize the BDT cut\n",
    "cut_values = np.linspace(0, 0.9, 20)\n",
    "fom_values = []\n",
    "s_values = []\n",
    "b_values = []\n",
    "\n",
    "for cut in cut_values:\n",
    "    fom, s, b = calculate_fom(data_df, cut)\n",
    "    fom_values.append(fom)\n",
    "    s_values.append(s)\n",
    "    b_values.append(b)\n",
    "    print(f\"Cut: {cut:.2f}, FOM: {fom:.2f}, S: {s:.1f}, B: {b:.1f}, S/B: {s/b if b > 0 else 0:.2f}\")\n",
    "\n",
    "# Find the optimal cut\n",
    "best_idx = np.argmax(fom_values)\n",
    "best_cut = cut_values[best_idx]\n",
    "best_fom = fom_values[best_idx]\n",
    "best_s = s_values[best_idx]\n",
    "best_b = b_values[best_idx]\n",
    "\n",
    "# Plot FOM vs. cut value\n",
    "plt.figure(figsize=(10, 6))\n",
    "plt.plot(cut_values, fom_values, 'o-')\n",
    "plt.xlabel('BDT Score Cut')\n",
    "plt.ylabel('S/sqrt(S+B)')\n",
    "plt.title(f'Figure of Merit vs. BDT Cut Value\\nOptimal Cut = {best_cut:.2f}, FOM = {best_fom:.2f}')\n",
    "plt.axvline(x=best_cut, color='r', linestyle='--')\n",
    "plt.grid(True)\n",
    "plt.savefig(\"fom_vs_cut.png\")\n",
    "\n",
    "# Apply the optimal cut and perform a final fit\n",
    "data_df_cut = data_df[data_df['bdt_score'] > best_cut]"
   ]
  },
  {
   "cell_type": "code",
   "execution_count": null,
   "metadata": {
    "vscode": {
     "languageId": "plaintext"
    }
   },
   "outputs": [],
   "source": [
    "\n",
    "# Function for final fit with optimal cut\n",
    "def final_fit(df, mass_range=(5300, 5500)):\n",
    "    # Create histogram of mass\n",
    "    hist, bin_edges = np.histogram(df['B_M'], bins=40, range=mass_range)\n",
    "    bin_centers = (bin_edges[:-1] + bin_edges[1:]) / 2\n",
    "    bin_width = bin_edges[1] - bin_edges[0]\n",
    "    \n",
    "    # Define fit functions\n",
    "    def gaussian(x, amp, mu, sigma):\n",
    "        return amp * np.exp(-0.5 * ((x - mu) / sigma)**2)\n",
    "    \n",
    "    def exponential(x, a, b):\n",
    "        return a * np.exp(-b * x)\n",
    "    \n",
    "    def combined_model(x, amp_gauss, mu_gauss, sigma_gauss, a_exp, b_exp):\n",
    "        return gaussian(x, amp_gauss, mu_gauss, sigma_gauss) + exponential(x, a_exp, b_exp)\n",
    "    \n",
    "    # Initial guesses\n",
    "    p0 = [100, fit_results['mu'], fit_results['sigma'], 1000, 0.001]\n",
    "    \n",
    "    # Fit\n",
    "    popt, pcov = opt.curve_fit(combined_model, bin_centers, hist, p0=p0)\n",
    "    \n",
    "    # Extract parameters\n",
    "    amp_gauss, mu_gauss, sigma_gauss, a_exp, b_exp = popt\n",
    "    perr = np.sqrt(np.diag(pcov))\n",
    "    \n",
    "    # Calculate signal and background in ±3σ region\n",
    "    signal_region = (mu_gauss - 3*sigma_gauss, mu_gauss + 3*sigma_gauss)\n",
    "    \n",
    "    # Count events in the signal region\n",
    "    mask_sr = (df['B_M'] >= signal_region[0]) & (df['B_M'] <= signal_region[1])\n",
    "    events_in_sr = len(df[mask_sr])\n",
    "    \n",
    "    # Fit components in signal region\n",
    "    x_signal_region = np.linspace(signal_region[0], signal_region[1], 1000)\n",
    "    bin_width_sr = (signal_region[1] - signal_region[0]) / len(x_signal_region)\n",
    "    \n",
    "    signal_component = gaussian(x_signal_region, amp_gauss, mu_gauss, sigma_gauss)\n",
    "    background_component = exponential(x_signal_region, a_exp, b_exp)\n",
    "    \n",
    "    # Integrate to get event counts in signal region\n",
    "    S = np.sum(signal_component) * bin_width_sr\n",
    "    B = np.sum(background_component) * bin_width_sr\n",
    "    \n",
    "    # Calculate S/B ratio\n",
    "    s_over_b = S / B if B > 0 else float('inf')\n",
    "    \n",
    "    # Goodness of fit\n",
    "    expected = combined_model(bin_centers, *popt)\n",
    "    chi2_val = np.sum((hist - expected)**2 / expected)\n",
    "    ndof = len(bin_centers) - len(popt)\n",
    "    \n",
    "    # Plot the fit\n",
    "    plt.figure(figsize=(12, 9))\n",
    "    plt.hist(df['B_M'], bins=40, range=mass_range, alpha=0.6, label='Data')\n",
    "    \n",
    "    x_fit = np.linspace(mass_range[0], mass_range[1], 1000)\n",
    "    plt.plot(x_fit, combined_model(x_fit, *popt) * bin_width, 'r-', label='Combined Fit')\n",
    "    plt.plot(x_fit, gaussian(x_fit, amp_gauss, mu_gauss, sigma_gauss) * bin_width, 'g--', label='Signal')\n",
    "    plt.plot(x_fit, exponential(x_fit, a_exp, b_exp) * bin_width, 'b--', label='Background')\n",
    "    \n",
    "    # Highlight signal region\n",
    "    plt.axvspan(signal_region[0], signal_region[1], alpha=0.3, color='yellow', label='±3σ Region')\n",
    "    \n",
    "    plt.xlabel('B_M (MeV)')\n",
    "    plt.ylabel('Events / ({:.1f} MeV)'.format(bin_width))\n",
    "    plt.title(r'Fit to $B_s^0 \\to D_s^- \\pi^+$ Mass Distribution with BDT Cut > {:.2f}'.format(best_cut))\n",
    "    plt.legend()\n",
    "    \n",
    "    plt.text(mass_range[0] + 10, 0.8 * max(hist), \n",
    "             f'Signal yield = {S:.1f} ± {perr[0]:.1f}\\n'\n",
    "             f'Background yield = {B:.1f}\\n'\n",
    "             f'$\\mu$ = {mu_gauss:.2f} ± {perr[1]:.2f} MeV\\n'\n",
    "             f'$\\sigma$ = {sigma_gauss:.2f} ± {perr[2]:.2f} MeV\\n'\n",
    "             f'S/B in ±3σ = {s_over_b:.2f}\\n'\n",
    "             f'$\\chi^2$/ndof = {chi2_val:.1f}/{ndof} = {chi2_val/ndof:.2f}')\n",
    "    \n",
    "    plt.tight_layout()\n",
    "    plt.savefig(\"final_mass_fit.png\")\n",
    "    \n",
    "    return {\n",
    "        'mu': mu_gauss,\n",
    "        'sigma': sigma_gauss,\n",
    "        'signal': S,\n",
    "        'background': B,\n",
    "        'S_over_B': s_over_b,\n",
    "        'events_in_sr': events_in_sr\n",
    "    }"
   ]
  },
  {
   "cell_type": "code",
   "execution_count": null,
   "metadata": {
    "vscode": {
     "languageId": "plaintext"
    }
   },
   "outputs": [],
   "source": [
    "# Perform final fit with optimal cut\n",
    "final_results = final_fit(data_df_cut)\n",
    "print(\"Final fit results after BDT cut:\", final_results)\n",
    "print(f\"Signal-to-background ratio in ±3σ region: {final_results['S_over_B']:.2f}\")\n",
    "\n",
    "# Plot BDT score distribution for signal and background\n",
    "plt.figure(figsize=(10, 6))\n",
    "plt.hist(data_predictions, bins=50, range=(0, 1), alpha=0.6, label='Data')\n",
    "\n",
    "# Overlay signal and background distributions from MC\n",
    "sig_pred = model.predict_proba(signal_df[features])[:, 1]\n",
    "bkg_pred = model.predict_proba(background_df[features])[:, 1]\n",
    "\n",
    "plt.hist(sig_pred, bins=50, range=(0, 1), alpha=0.6, label='Signal MC', color='green', \n",
    "         weights=np.ones_like(sig_pred)*len(data_predictions)/len(sig_pred))\n",
    "plt.hist(bkg_pred, bins=50, range=(0, 1), alpha=0.6, label='Background MC', color='red',\n",
    "         weights=np.ones_like(bkg_pred)*len(data_predictions)/len(bkg_pred))\n",
    "\n",
    "plt.axvline(x=best_cut, color='r', linestyle='--', label=f'Optimal Cut = {best_cut:.2f}')\n",
    "plt.xlabel('BDT Score')\n",
    "plt.ylabel('Events')\n",
    "plt.title('BDT Score Distribution')\n",
    "plt.legend()\n",
    "plt.grid(True)\n",
    "plt.savefig(\"bdt_score_distribution.png\")\n",
    "\n",
    "# Summary of results\n",
    "print(\"\\nSUMMARY OF RESULTS:\")\n",
    "print(f\"Initial signal-to-background ratio: {fit_results['S_over_B']:.2f}\")\n",
    "print(f\"Optimal BDT cut: {best_cut:.2f}\")\n",
    "print(f\"Final signal-to-background ratio: {final_results['S_over_B']:.2f}\")\n",
    "print(f\"Improvement factor: {final_results['S_over_B']/fit_results['S_over_B']:.2f}x\")"
   ]
  },
  {
   "cell_type": "code",
   "execution_count": null,
   "metadata": {
    "vscode": {
     "languageId": "plaintext"
    }
   },
   "outputs": [],
   "source": []
  },
  {
   "cell_type": "code",
   "execution_count": null,
   "metadata": {
    "vscode": {
     "languageId": "plaintext"
    }
   },
   "outputs": [],
   "source": []
  },
  {
   "cell_type": "code",
   "execution_count": null,
   "metadata": {
    "vscode": {
     "languageId": "plaintext"
    }
   },
   "outputs": [],
   "source": []
  },
  {
   "cell_type": "code",
   "execution_count": null,
   "metadata": {
    "vscode": {
     "languageId": "plaintext"
    }
   },
   "outputs": [],
   "source": []
  }
 ],
 "metadata": {
  "language_info": {
   "name": "python"
  }
 },
 "nbformat": 4,
 "nbformat_minor": 2
}
